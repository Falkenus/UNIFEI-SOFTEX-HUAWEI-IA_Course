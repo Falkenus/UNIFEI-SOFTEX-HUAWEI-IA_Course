{
 "cells": [
  {
   "cell_type": "markdown",
   "metadata": {
    "id": "WDWezBVYYLkG"
   },
   "source": [
    "# Aula 03 - Elementos de Álgebra Linear\n",
    "Curso de Introdução à Inteligência Artificial \\\\\n",
    "Universidade Federal de Itajubá \\\\\n",
    "Prof. Rodrigo Lima"
   ]
  },
  {
   "cell_type": "markdown",
   "metadata": {
    "id": "5q3uh7oXyq-h"
   },
   "source": [
    "# Exercícios resolvidos"
   ]
  },
  {
   "cell_type": "code",
   "execution_count": 1,
   "metadata": {
    "id": "qiX6CMFekrOP"
   },
   "outputs": [],
   "source": [
    "# Bibliotecas que serão usadas.\n",
    "\n",
    "import numpy as np\n",
    "from scipy import linalg"
   ]
  },
  {
   "cell_type": "markdown",
   "metadata": {
    "id": "yiYAuTPIk5Kj"
   },
   "source": [
    "Considere as matrizes $A$, $B$ e $C$ dadas por:\n",
    "\n",
    "$$\n",
    "A = \\left(\\begin{array}{rr}\n",
    "-2 & 0 \\\\\n",
    "4 & -1 \\\\\n",
    "5 & 8\n",
    "\\end{array}\\right), \\quad\n",
    "B = \\left(\\begin{array}{rrr}\n",
    "1 & 0 & -2 \\\\\n",
    "3 & 2 & 6 \\\\\n",
    "\\end{array}\\right), \\quad\n",
    "C = \\left(\\begin{array}{rr}\n",
    "2 & 1 \\\\\n",
    "0 & 5\n",
    "\\end{array}\\right).\n",
    "$$"
   ]
  },
  {
   "cell_type": "markdown",
   "metadata": {
    "id": "T10y0CZqqDhu"
   },
   "source": [
    "a) Efetue as operações $AB$ e $AC - 2B^T$."
   ]
  },
  {
   "cell_type": "code",
   "execution_count": 2,
   "metadata": {
    "id": "1E7hmQ_3oaBw"
   },
   "outputs": [],
   "source": [
    "# Declarando as matrizes:\n",
    "\n",
    "A = np.array([[-2, 0],[4, -1],[5, 8]])\n",
    "B = np.array([[1, 0, -2],[3, 2, 6]])\n",
    "C = np.array([[2, 1],[0, 5]])"
   ]
  },
  {
   "cell_type": "code",
   "execution_count": 3,
   "metadata": {
    "colab": {
     "base_uri": "https://localhost:8080/"
    },
    "id": "YbebG881pX_r",
    "outputId": "e161db57-0a70-4e95-a47f-495726a40110"
   },
   "outputs": [
    {
     "name": "stdout",
     "output_type": "stream",
     "text": [
      "[[ -2   0   4]\n",
      " [  1  -2 -14]\n",
      " [ 29  16  38]]\n"
     ]
    }
   ],
   "source": [
    "# Efetuando o produto AB:\n",
    "\n",
    "AB = np.dot(A,B)\n",
    "print(AB)"
   ]
  },
  {
   "cell_type": "code",
   "execution_count": 4,
   "metadata": {
    "colab": {
     "base_uri": "https://localhost:8080/"
    },
    "id": "9DqgGucwpq5X",
    "outputId": "23b7a902-561b-420f-945f-396fe9b82b7d"
   },
   "outputs": [
    {
     "name": "stdout",
     "output_type": "stream",
     "text": [
      "[[-6 -8]\n",
      " [ 8 -5]\n",
      " [14 33]]\n"
     ]
    }
   ],
   "source": [
    "# Efetuando a operação AC - 2B^T:\n",
    "\n",
    "M = np.dot(A,C) - 2*B.T\n",
    "print(M)"
   ]
  },
  {
   "cell_type": "markdown",
   "metadata": {
    "id": "hgaWUslLq_ON"
   },
   "source": [
    "b) Calcule o determinante de $C$ e, com base no valor obtido, responda se $C$ admite inversa."
   ]
  },
  {
   "cell_type": "code",
   "execution_count": 5,
   "metadata": {
    "colab": {
     "base_uri": "https://localhost:8080/"
    },
    "id": "nSFtKShWrOKy",
    "outputId": "3c321be6-0502-4b61-ed3a-8cf7173202c1"
   },
   "outputs": [
    {
     "name": "stdout",
     "output_type": "stream",
     "text": [
      "10.0\n"
     ]
    }
   ],
   "source": [
    "detC = linalg.det(C)\n",
    "print(detC)\n",
    "\n",
    "# C admite inversa pois o determinante é diferente de zero."
   ]
  },
  {
   "cell_type": "markdown",
   "metadata": {
    "id": "8zYqbfNos518"
   },
   "source": [
    "c) Calcule os autovalores e autovetores de $C$."
   ]
  },
  {
   "cell_type": "code",
   "execution_count": 6,
   "metadata": {
    "colab": {
     "base_uri": "https://localhost:8080/"
    },
    "id": "GDwiQtIstA20",
    "outputId": "9482ae7f-6a88-48ad-e1ae-0966d602cdc1"
   },
   "outputs": [
    {
     "name": "stdout",
     "output_type": "stream",
     "text": [
      "(array([2.+0.j, 5.+0.j]), array([[1.        , 0.31622777],\n",
      "       [0.        , 0.9486833 ]]))\n"
     ]
    }
   ],
   "source": [
    "solucao = linalg.eig(C)\n",
    "print(solucao)\n",
    "\n",
    "# A saída do comando eig contém duas listas: \n",
    "# na primeira estão os autovalores (2 e 5 neste caso) e \n",
    "# na segunda lista estão os autovetores armazenados nas linhas de uma matriz."
   ]
  },
  {
   "cell_type": "markdown",
   "metadata": {
    "id": "zfEek48OuVqE"
   },
   "source": [
    "d) Obtenha a decomposição em valores singulares de $C$."
   ]
  },
  {
   "cell_type": "code",
   "execution_count": 7,
   "metadata": {
    "id": "gpra81bYucHl"
   },
   "outputs": [],
   "source": [
    "U, Sigma, V = linalg.svd(C)"
   ]
  },
  {
   "cell_type": "code",
   "execution_count": 8,
   "metadata": {
    "colab": {
     "base_uri": "https://localhost:8080/"
    },
    "id": "G2yBWDCwvYXY",
    "outputId": "06d8d0ef-e4d9-40e8-fac2-343790a103e9"
   },
   "outputs": [
    {
     "name": "stdout",
     "output_type": "stream",
     "text": [
      "[[ 0.22975292 -0.97324899]\n",
      " [ 0.97324899  0.22975292]]\n"
     ]
    }
   ],
   "source": [
    "# os vetores ortogonais u_i estão armazenados nas colunas.\n",
    "print(U)"
   ]
  },
  {
   "cell_type": "code",
   "execution_count": 9,
   "metadata": {
    "colab": {
     "base_uri": "https://localhost:8080/"
    },
    "id": "f0qzk5rLvbI2",
    "outputId": "ebfbb92b-4285-4790-f6a7-d30bb9e8f86d"
   },
   "outputs": [
    {
     "name": "stdout",
     "output_type": "stream",
     "text": [
      "[5.11667274 1.95439508]\n"
     ]
    }
   ],
   "source": [
    "# a saída do comando fornece apenas uma lista com os valores singulares encontrados.\n",
    "print(Sigma)"
   ]
  },
  {
   "cell_type": "code",
   "execution_count": 10,
   "metadata": {
    "colab": {
     "base_uri": "https://localhost:8080/"
    },
    "id": "4FxD5aZMvf5W",
    "outputId": "a0981ae2-a75a-462a-b499-6a2abe08f3dc"
   },
   "outputs": [
    {
     "name": "stdout",
     "output_type": "stream",
     "text": [
      "[[ 0.0898056   0.99595931]\n",
      " [-0.99595931  0.0898056 ]]\n"
     ]
    }
   ],
   "source": [
    "# os vetores ortogonais v_i estão armazenados nas linhas.\n",
    "print(V)"
   ]
  },
  {
   "cell_type": "code",
   "execution_count": 11,
   "metadata": {
    "colab": {
     "base_uri": "https://localhost:8080/"
    },
    "id": "_Oy6U63KwED-",
    "outputId": "ca1fe4cd-44fe-4eab-9bbf-a58c09ef363c"
   },
   "outputs": [
    {
     "name": "stdout",
     "output_type": "stream",
     "text": [
      "[[ 2.00000000e+00  1.00000000e+00]\n",
      " [-5.55111512e-17  5.00000000e+00]]\n"
     ]
    }
   ],
   "source": [
    "# Recuperando a matriz C a partir da decomposição encontrada.\n",
    "\n",
    "print(np.dot(U,np.dot(np.diag(Sigma),V)))"
   ]
  },
  {
   "cell_type": "markdown",
   "metadata": {
    "id": "KT0bmWL_ycY6"
   },
   "source": [
    "#Faça você mesmo!\n",
    "\n",
    "Resolva o exercício abaixo utilizando comandos específicos do Python."
   ]
  },
  {
   "cell_type": "markdown",
   "metadata": {
    "id": "FiCUPfpE1_3f"
   },
   "source": [
    "Considere a matriz $A = \\left(\\begin{array}{rrr} 1 & 2 & -1 \\\\ 2 & 3 & -2 \\\\ 1 & -2 & 1\\end{array}\\right)$.\n",
    "\n",
    "a) Calcule o determinante de $A$. \\\\\n",
    "b) Efetue a operação $A^TA - A^Tb$, onde $b = \\left(\\begin{array}{r} 1 \\\\ 2 \\\\ -1\\end{array}\\right)$. \\\\\n",
    "c) Calcule os autovalores e autovetores de $A$. \\\\\n",
    "d) Obtenha a decomposição em valores singulares de $A$."
   ]
  },
  {
   "cell_type": "code",
   "execution_count": 12,
   "metadata": {
    "id": "pP9Kr_nmY9CQ"
   },
   "outputs": [],
   "source": [
    "# Declare a matriz A aqui.\n",
    "A = np.array([[1, 2, -1], [2, 3, -2], [1, -2, 1]])"
   ]
  },
  {
   "cell_type": "code",
   "execution_count": 13,
   "metadata": {
    "id": "2utnLH_bypqo"
   },
   "outputs": [
    {
     "data": {
      "text/plain": [
       "-2.0"
      ]
     },
     "execution_count": 13,
     "metadata": {},
     "output_type": "execute_result"
    }
   ],
   "source": [
    "# Resolução do item a)\n",
    "linalg.det(A)"
   ]
  },
  {
   "cell_type": "code",
   "execution_count": 14,
   "metadata": {
    "id": "r-USb4M3YlFH"
   },
   "outputs": [
    {
     "data": {
      "text/plain": [
       "array([[  2,   2,  -8],\n",
       "       [ -4,   7, -20],\n",
       "       [  2,  -4,  12]])"
      ]
     },
     "execution_count": 14,
     "metadata": {},
     "output_type": "execute_result"
    }
   ],
   "source": [
    "# Resolução do item b)\n",
    "np.dot(A.T, A) - np.dot(A.T, np.array([[1], [2], [-1]]))"
   ]
  },
  {
   "cell_type": "code",
   "execution_count": 15,
   "metadata": {
    "id": "xBGXGIcwYoeF"
   },
   "outputs": [
    {
     "data": {
      "text/plain": [
       "(array([-0.59773519+0.j,  0.6804492 +0.j,  4.91728599+0.j]),\n",
       " array([[ 0.18660067, -0.42967649, -0.49300944],\n",
       "        [-0.55454905, -0.34797008, -0.81938524],\n",
       "        [-0.81095964, -0.83324363,  0.29248849]]))"
      ]
     },
     "execution_count": 15,
     "metadata": {},
     "output_type": "execute_result"
    }
   ],
   "source": [
    "# Resolução do item c)\n",
    "linalg.eig(A)"
   ]
  },
  {
   "cell_type": "code",
   "execution_count": 16,
   "metadata": {
    "id": "2H4PLRJOYsDD"
   },
   "outputs": [
    {
     "data": {
      "text/plain": [
       "(array([[-0.48215734,  0.0804168 , -0.87238606],\n",
       "        [-0.80508333,  0.35202402,  0.4774096 ],\n",
       "        [ 0.3454926 ,  0.93253002, -0.10498874]]),\n",
       " array([5.05606031, 1.84122207, 0.21483824]),\n",
       " array([[-0.3454926 , -0.80508333,  0.48215734],\n",
       "        [ 0.93253002, -0.35202402,  0.0804168 ],\n",
       "        [-0.10498874, -0.4774096 , -0.87238606]]))"
      ]
     },
     "execution_count": 16,
     "metadata": {},
     "output_type": "execute_result"
    }
   ],
   "source": [
    "# Resolução do item d)\n",
    "linalg.svd(A)"
   ]
  }
 ],
 "metadata": {
  "colab": {
   "provenance": []
  },
  "kernelspec": {
   "display_name": "Python 3 (ipykernel)",
   "language": "python",
   "name": "python3"
  },
  "language_info": {
   "codemirror_mode": {
    "name": "ipython",
    "version": 3
   },
   "file_extension": ".py",
   "mimetype": "text/x-python",
   "name": "python",
   "nbconvert_exporter": "python",
   "pygments_lexer": "ipython3",
   "version": "3.9.13"
  }
 },
 "nbformat": 4,
 "nbformat_minor": 1
}
