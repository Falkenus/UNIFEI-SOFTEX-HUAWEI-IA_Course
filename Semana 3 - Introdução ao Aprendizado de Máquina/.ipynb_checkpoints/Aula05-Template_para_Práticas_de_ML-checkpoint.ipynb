{
 "cells": [
  {
   "cell_type": "markdown",
   "metadata": {
    "id": "RgGKQ8FIXP-o"
   },
   "source": [
    "### **SOFTEX/UNIFEI** - **Curso de Introdução à Inteligência Artificial**\n",
    "\n",
    "# **Módulo 3. Aprendizado de Máquina**\n",
    "\n",
    "## ***Template de notebook para realização de Atividades Práticas*** \n",
    "\n",
    "###**Assunto:** Práticas de desenvolvimento de um notebook Google Colab para criação de modelos de aprendizado de máquina.\n",
    "\n",
    "\\\\\n",
    "**Matrícula:** \\<*Número de matrícula na instituição*\\> \\\n",
    "**Nome:** \\<*Nome Completo*\\> \\\n",
    "**e-mail:** \\<*endereço de e-mail*\\> \\\n",
    "**Turma:** \\<*1, 2, 3 ou 4*\\> \\\n",
    "**Última Edição:** \\<*data da última edição do Colab*\\>\n",
    "\n",
    "\\\\\n",
    "###**INFORMAÇÕES**\n",
    "\n",
    "*   **Estas práticas não valem ponto** e **não precisam se entregues**. Sua realização é recomendada para auxiliar na fixação do conteúdo e para o desenvolvimento de modelos aplicáveis. **Dúvidas** poderão ser esclarecidas com o professor e monitores de preferência nas aulas presenciais ou enviadas para o e-mail softex@unifei.edu.br.\n",
    "\n",
    "* **Tópico Abordado:** Processo de *Machine Learning*.\n",
    "\n",
    "*   Este template é **recomendado para realização das práticas das aulas 05, 06, 07 e 08**. Altere-o como preferir ou utilize um de sua escolha, mas tente atender todas as atividades solicitadas.\n",
    "\n",
    "> * Aula 05: relacionada aos itens 1 a 3 das atividades.\n",
    "> * Aula 06: itens 4 e 5 dos modelos Não Supervisionados.\n",
    "> * Aula 07: itens 4 e 5 dos modelos Supervisionados.\n",
    "\n",
    "* **Objetivos:** Construção incremental de um modelo simples de aprendizado de máquina que considere as etapas de ''Coleta de Dados'' até \"Teste e Avaliação do Modelo\". O modelo deverá ser desenvolvido no Google Colab através de comandos básicos Python e respectivas bibliotecas.\n",
    "\n",
    "----"
   ]
  },
  {
   "cell_type": "markdown",
   "metadata": {
    "id": "YtUl_FbUvbsT"
   },
   "source": [
    "##**ATIVIDADES**\n",
    "\n",
    "Com base no material disponibilizado ou outras referências que desejar, atenda as atividades solicitadas a seguir que são comumente realizadas no processo de *Machine Learning*. Não se prenda a estrutura deste templante, fique à vontade para personalizá-lo e inserir elementos que achar necessário para melhorar sua qualidade (ex. células de texto e de código, gráficos, figuras, explicações).\n",
    "\n",
    "Construa um modelo não supervisionado e um modelo supervisionado para o dataset Iris (disponível [UCI Machine Learning Repository](https://archive.ics.uci.edu/ml/datasets/iris)). Se preferir, utilize um conjunto de dados de sua preferência que possibilite a aplicação de aprendizado de máquina.\n",
    "\n",
    "**Siga o processo de Machine Learning:**\n",
    "\n",
    "1. **Coleta dos Dados:** fique à vontade para escolher o formato de obtenção dos dados. Forneça informações sobre o conjunto de dados para melhor entendimento.\n",
    "\n",
    "2. **Limpeza dos Dados:** verifique a necessidade de tratar os dados, explique os procedimentos que adotou. \n",
    "\n",
    "3. **Extração de Características**: se for utilizar o *dataset* Iris considere todos os quatro atributos do conjunto de dados. Se usar um de sua escolha explique o que motivou a seleção.\n",
    "\n",
    "4.  **Modelagem**: construa os modelos solicitados conforme cada tipo de aprendizado.\n",
    "  > **Modelo Não Supervisionado:**\n",
    "> * A partir do conjunto de dados original obtenha um conjunto sem os rótulos de classe dos objetos que será usado para os experimentos.\n",
    "> * Utilizar no mínimo dois classificadores (K-Means, outro da sua escolha)\n",
    ">\n",
    "  > **Modelo Supervisionado:**\n",
    "> *  Utilize a proporção 75/25 para gerar os conjuntos de treinamento e teste.\n",
    "> *  O treinamento deve ser feito com 3-*fold* cross-validation.\n",
    "> *  Utilizar no mínimo dois classificadores (Decision Tree e outro da sua escolha)\n",
    "\n",
    "5.  **Avaliação**: valide os modelos construídos conforme cada tipo de aprendizado.\n",
    "\n",
    "  > **Modelo Não Supervisionado:**\n",
    "> * Compare o resultado dos agrupamentos gerados utilizado como medidas o tempo de execução e uma medida externa de avaliação de sua preferência.\n",
    "> * Utilize recursos visuais (ex. gráficos, tabelas, figuras) para mostrar os agrupamentos gerados.\n",
    "\n",
    "  > **Modelo Supervisionado):**\n",
    "> *  Compare o resultado dos modelos, avalie a matriz de confusão. \n",
    "> * Apresente os valores das métricas obtidas com a classificação ou regressão e discuta o que eles representam no contexto do cenário abordado.\n",
    "> * Avalie a acurácia de treinamento e de teste dos modelos.\n",
    "> * Para uma comparação justa considere os mesmos conjuntos de treinamento e de teste em ambos os modelos.\n",
    "\n",
    "**OBSERVAÇÕES:** \n",
    "\n",
    "* Deixe claro no seu notebook os hiperparâmetros que foram considerados em cada método utilizado.\n",
    "* Documente adequadamente seu código. \n",
    "* Nos resultados utilize recursos visuais sempre que possível (ex. gráficos, figuras, tabelas). É importante saber comunicar o que foi feito.\n",
    "\n",
    "---"
   ]
  },
  {
   "cell_type": "markdown",
   "metadata": {
    "id": "56-xuwRIjJTP"
   },
   "source": [
    "# **0. Preparação do Ambiente de Desenvolvimento**\n",
    "Insira à seguir as bibliotecas e demais comandos de inicialização usados neste notebook que achar necessário para atender as atividades solicitadas."
   ]
  },
  {
   "cell_type": "code",
   "execution_count": null,
   "metadata": {
    "id": "IT24JBF8jTb9"
   },
   "outputs": [],
   "source": [
    "# Bibliotecas e demais comandos de inicialização"
   ]
  },
  {
   "cell_type": "markdown",
   "metadata": {
    "id": "jJ6ZgoYHYJga"
   },
   "source": [
    "---\n",
    "#**1. Coleta e Preparação dos Dados**\n",
    "\n",
    "Insira a seguir os procedimentos de Coleta dos Dados, Entendimento dos Dados e Preparação dos Dados (Limpeza, Extração)."
   ]
  },
  {
   "cell_type": "markdown",
   "metadata": {
    "id": "_3r-FyNIGd2x"
   },
   "source": [
    "###**1.1 Coleta dos Dados**"
   ]
  },
  {
   "cell_type": "code",
   "execution_count": null,
   "metadata": {
    "id": "outEKndzYp-u"
   },
   "outputs": [],
   "source": [
    "# Código do procedimento para Coleta de Dados"
   ]
  },
  {
   "cell_type": "markdown",
   "metadata": {
    "id": "rD_gFCbuaI1U"
   },
   "source": [
    "### **1.2 Entendimento dos Dados**"
   ]
  },
  {
   "cell_type": "code",
   "execution_count": null,
   "metadata": {
    "id": "QMviDsbxholZ"
   },
   "outputs": [],
   "source": [
    "# Código do procedimento para Entendimento dos Dados"
   ]
  },
  {
   "cell_type": "markdown",
   "metadata": {
    "id": "nPKhMbG4fTSY"
   },
   "source": [
    "### **1.3 Preparação dos Dados**"
   ]
  },
  {
   "cell_type": "code",
   "execution_count": null,
   "metadata": {
    "id": "nZaIi8ricPpX"
   },
   "outputs": [],
   "source": [
    "# Código do procedimento para Preparação dos Dados e Extração de Características"
   ]
  },
  {
   "cell_type": "markdown",
   "metadata": {
    "id": "91m8b3dcjm_k"
   },
   "source": [
    "---\n",
    "# **2. Modelagem**\n",
    "Descreva a seguir os procedimentos de modelagem de um aprendizado Não Supervisionado para o agrupamento do conjunto de dados. Em seguida, faça o mesmo para os modelos Supervisionados."
   ]
  },
  {
   "cell_type": "markdown",
   "metadata": {
    "id": "PY_alhe5GtBF"
   },
   "source": [
    "## **2.1 MODELO NÃO SUPERVISIONADO**"
   ]
  },
  {
   "cell_type": "markdown",
   "metadata": {
    "id": "nAY_lgDRGkRy"
   },
   "source": [
    "### **Modelo 1 - \\<*Nome do Método 1*\\>**"
   ]
  },
  {
   "cell_type": "code",
   "execution_count": null,
   "metadata": {
    "id": "mN6Io8Sbj0Fb"
   },
   "outputs": [],
   "source": [
    "#Código do Modelo Não Supervisionado 1"
   ]
  },
  {
   "cell_type": "markdown",
   "metadata": {
    "id": "3xOYw4JJDedQ"
   },
   "source": [
    "### **Modelo 2 - \\<*Nome do Método 2*\\>**"
   ]
  },
  {
   "cell_type": "code",
   "execution_count": null,
   "metadata": {
    "id": "bSp_O3JeDkq-"
   },
   "outputs": [],
   "source": [
    "#Código do Modelo Não Supervisionado 2"
   ]
  },
  {
   "cell_type": "markdown",
   "metadata": {
    "id": "YDcA5jKpEX12"
   },
   "source": [
    "---\n",
    "## **2.2 MODELO SUPERVISIONADO**"
   ]
  },
  {
   "cell_type": "markdown",
   "metadata": {
    "id": "cx7qxdHZGyKw"
   },
   "source": [
    "### **Modelo 1 - \\<*Nome do Método 1*\\>**"
   ]
  },
  {
   "cell_type": "code",
   "execution_count": null,
   "metadata": {
    "id": "R1P6lnCrEbTb"
   },
   "outputs": [],
   "source": [
    "# Código do Modelo Supervisionado 1"
   ]
  },
  {
   "cell_type": "markdown",
   "metadata": {
    "id": "w1QYsKaIEk2m"
   },
   "source": [
    "### **Modelo 2 - \\<*Nome do Método 2*\\>**"
   ]
  },
  {
   "cell_type": "code",
   "execution_count": null,
   "metadata": {
    "id": "dH-bjTsPFuH8"
   },
   "outputs": [],
   "source": [
    "# Código do Modelo Supervisionado 2"
   ]
  },
  {
   "cell_type": "markdown",
   "metadata": {
    "id": "BmPt113WkHID"
   },
   "source": [
    "---\n",
    "\n",
    "# **3. Avaliação**\n",
    "\n",
    "Descreva o resultado das suas modelagens considerando primeiro o Aprendizado Não Supervisionado e depois o Aprendizado Supervisionado.\n"
   ]
  },
  {
   "cell_type": "markdown",
   "metadata": {
    "id": "pgUiF23dFETM"
   },
   "source": [
    "## **3.1 MODELO NÃO SUPERVISIONADO**"
   ]
  },
  {
   "cell_type": "code",
   "execution_count": null,
   "metadata": {
    "id": "GVp21rtRk18j"
   },
   "outputs": [],
   "source": [
    "# Código para apresentar os resultados da comparação dos modelos não supervisionados"
   ]
  },
  {
   "cell_type": "markdown",
   "metadata": {
    "id": "rnp-s91Ck81z"
   },
   "source": [
    "## **2.2 MODELO SUPERVISIONADO**"
   ]
  },
  {
   "cell_type": "code",
   "execution_count": null,
   "metadata": {
    "id": "jIj5EUt6lM8t"
   },
   "outputs": [],
   "source": [
    "# Código para apresentar os resultados da comparação dos modelos supervisionados"
   ]
  },
  {
   "cell_type": "markdown",
   "metadata": {
    "id": "qk_M-4aaUjcp"
   },
   "source": [
    "\n",
    "\n",
    "---\n",
    "\n",
    "\n",
    "## **Referências**\n",
    "* Insira as referências que utilizou para realização desta atividade.\n"
   ]
  }
 ],
 "metadata": {
  "colab": {
   "collapsed_sections": [
    "qk_M-4aaUjcp"
   ],
   "provenance": []
  },
  "gpuClass": "standard",
  "kernelspec": {
   "display_name": "Python 3 (ipykernel)",
   "language": "python",
   "name": "python3"
  },
  "language_info": {
   "codemirror_mode": {
    "name": "ipython",
    "version": 3
   },
   "file_extension": ".py",
   "mimetype": "text/x-python",
   "name": "python",
   "nbconvert_exporter": "python",
   "pygments_lexer": "ipython3",
   "version": "3.9.13"
  }
 },
 "nbformat": 4,
 "nbformat_minor": 1
}
