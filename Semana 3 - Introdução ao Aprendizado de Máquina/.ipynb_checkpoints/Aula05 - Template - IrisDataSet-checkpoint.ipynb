{
 "cells": [
  {
   "cell_type": "markdown",
   "metadata": {
    "id": "RgGKQ8FIXP-o"
   },
   "source": [
    "### **SOFTEX/UNIFEI** - **Curso de Introdução à Inteligência Artificial**\n",
    "\n",
    "# **Módulo 3. Aprendizado de Máquina**\n",
    "\n",
    "## ***Template de notebook para realização de Atividades Práticas*** \n",
    "\n",
    "### **Assunto:** Práticas de desenvolvimento de um notebook Google Colab para criação de modelos de aprendizado de máquina.\n",
    "\n",
    "\\\n",
    "**Matrícula:** 2019005776\\\n",
    "**Nome:** Victor Eduardo Cauvilla de Oliveira\\\n",
    "**e-mail:** victoreca@unifei.edu.br\\\n",
    "**Turma:** 1\\\n",
    "**Última Edição:** 14/03/2023\n",
    "\n",
    "**INFORMAÇÕES**\n",
    "*   **Estas práticas não valem ponto** e **não precisam se entregues**. Sua realização é recomendada para auxiliar na fixação do conteúdo e para o desenvolvimento de modelos aplicáveis. **Dúvidas** poderão ser esclarecidas com o professor e monitores de preferência nas aulas presenciais ou enviadas para o e-mail softex@unifei.edu.br.\n",
    "\n",
    "* **Tópico Abordado:** Processo de *Machine Learning*.\n",
    "\n",
    "*   Este template é **recomendado para realização das práticas das aulas 05, 06, 07 e 08**. Altere-o como preferir ou utilize um de sua escolha, mas tente atender todas as atividades solicitadas.\n",
    "\n",
    "> * Aula 05: relacionada aos itens 1 a 3 das atividades.\n",
    "> * Aula 06: itens 4 e 5 dos modelos Não Supervisionados.\n",
    "> * Aula 07: itens 4 e 5 dos modelos Supervisionados.\n",
    "\n",
    "* **Objetivos:** Construção incremental de um modelo simples de aprendizado de máquina que considere as etapas de ''Coleta de Dados'' até \"Teste e Avaliação do Modelo\". O modelo deverá ser desenvolvido no Google Colab através de comandos básicos Python e respectivas bibliotecas.\n",
    "\n",
    "----"
   ]
  },
  {
   "cell_type": "markdown",
   "metadata": {
    "id": "YtUl_FbUvbsT"
   },
   "source": [
    "**ATIVIDADES**\n",
    "\n",
    "Com base no material disponibilizado ou outras referências que desejar, atenda as atividades solicitadas a seguir que são comumente realizadas no processo de *Machine Learning*. Não se prenda a estrutura deste templante, fique à vontade para personalizá-lo e inserir elementos que achar necessário para melhorar sua qualidade (ex. células de texto e de código, gráficos, figuras, explicações).\n",
    "\n",
    "Construa um modelo não supervisionado e um modelo supervisionado para o dataset Iris (disponível [UCI Machine Learning Repository](https://archive.ics.uci.edu/ml/datasets/iris)). Se preferir, utilize um conjunto de dados de sua preferência que possibilite a aplicação de aprendizado de máquina.\n",
    "\n",
    "**Siga o processo de Machine Learning:**\n",
    "\n",
    "1. **Coleta dos Dados:** fique à vontade para escolher o formato de obtenção dos dados. Forneça informações sobre o conjunto de dados para melhor entendimento.\n",
    "\n",
    "2. **Limpeza dos Dados:** verifique a necessidade de tratar os dados, explique os procedimentos que adotou. \n",
    "\n",
    "3. **Extração de Características**: se for utilizar o *dataset* Iris considere todos os quatro atributos do conjunto de dados. Se usar um de sua escolha explique o que motivou a seleção.\n",
    "\n",
    "4.  **Modelagem**: construa os modelos solicitados conforme cada tipo de aprendizado.\n",
    "  > **Modelo Não Supervisionado:**\n",
    "> * A partir do conjunto de dados original obtenha um conjunto sem os rótulos de classe dos objetos que será usado para os experimentos.\n",
    "> * Utilizar no mínimo dois classificadores (K-Means, outro da sua escolha)\n",
    ">\n",
    "  > **Modelo Supervisionado:**\n",
    "> *  Utilize a proporção 75/25 para gerar os conjuntos de treinamento e teste.\n",
    "> *  O treinamento deve ser feito com 3-*fold* cross-validation.\n",
    "> *  Utilizar no mínimo dois classificadores (Decision Tree e outro da sua escolha)\n",
    "\n",
    "5.  **Avaliação**: valide os modelos construídos conforme cada tipo de aprendizado.\n",
    "\n",
    "  > **Modelo Não Supervisionado:**\n",
    "> * Compare o resultado dos agrupamentos gerados utilizado como medidas o tempo de execução e uma medida externa de avaliação de sua preferência.\n",
    "> * Utilize recursos visuais (ex. gráficos, tabelas, figuras) para mostrar os agrupamentos gerados.\n",
    "\n",
    "  > **Modelo Supervisionado):**\n",
    "> *  Compare o resultado dos modelos, avalie a matriz de confusão. \n",
    "> * Apresente os valores das métricas obtidas com a classificação ou regressão e discuta o que eles representam no contexto do cenário abordado.\n",
    "> * Avalie a acurácia de treinamento e de teste dos modelos.\n",
    "> * Para uma comparação justa considere os mesmos conjuntos de treinamento e de teste em ambos os modelos.\n",
    "\n",
    "**OBSERVAÇÕES:** \n",
    "\n",
    "* Deixe claro no seu notebook os hiperparâmetros que foram considerados em cada método utilizado.\n",
    "* Documente adequadamente seu código. \n",
    "* Nos resultados utilize recursos visuais sempre que possível (ex. gráficos, figuras, tabelas). É importante saber comunicar o que foi feito.\n",
    "\n",
    "---"
   ]
  },
  {
   "cell_type": "markdown",
   "metadata": {
    "id": "56-xuwRIjJTP"
   },
   "source": [
    "# **0. Preparação do Ambiente de Desenvolvimento**\n",
    "Insira à seguir as bibliotecas e demais comandos de inicialização usados neste notebook que achar necessário para atender as atividades solicitadas."
   ]
  },
  {
   "cell_type": "code",
   "execution_count": 55,
   "metadata": {},
   "outputs": [],
   "source": [
    "#instalando Pandas Profiling\n",
    "#!pip install https://github.com/pandas-profiling/pandas-profiling/archive/master.zip"
   ]
  },
  {
   "cell_type": "code",
   "execution_count": 56,
   "metadata": {
    "id": "IT24JBF8jTb9"
   },
   "outputs": [],
   "source": [
    "# Bibliotecas e demais comandos de inicialização\n",
    "import numpy as np # Manipulação de matrizes\n",
    "import pandas as pd #\n",
    "from lxml import objectify # Permite usar XML como se fosse um objeto Python\n",
    "import requests as req # Comunicação via Http\n",
    "from bs4 import BeautifulSoup # Permite extrair dados de arquivos HTML e XML (parse).\n",
    "from pandas_profiling import ProfileReport # Análise Exploratória de dados\n",
    "import seaborn as sns\n",
    "import matplotlib.pyplot as plt"
   ]
  },
  {
   "cell_type": "markdown",
   "metadata": {
    "id": "jJ6ZgoYHYJga"
   },
   "source": [
    "---\n",
    "## **1. Coleta e Preparação dos Dados**\n",
    "\n",
    "Insira a seguir os procedimentos de Coleta dos Dados, Entendimento dos Dados e Preparação dos Dados (Limpeza, Extração)."
   ]
  },
  {
   "cell_type": "markdown",
   "metadata": {
    "id": "_3r-FyNIGd2x"
   },
   "source": [
    "**1.1 Coleta dos Dados**"
   ]
  },
  {
   "cell_type": "code",
   "execution_count": 57,
   "metadata": {
    "id": "outEKndzYp-u"
   },
   "outputs": [],
   "source": [
    "# Código do procedimento para Coleta de Dados\n",
    "title = ['Sepal Lenght in cm', 'Sepal Width in cm', 'Petal Lenght in cm', 'Petal Width in cm', 'Class']\n",
    "df = pd.read_csv('https://archive.ics.uci.edu/ml/machine-learning-databases/iris/iris.data', header=0, names=title)"
   ]
  },
  {
   "cell_type": "markdown",
   "metadata": {
    "id": "rD_gFCbuaI1U"
   },
   "source": [
    "**1.2 Entendimento dos Dados**"
   ]
  },
  {
   "cell_type": "code",
   "execution_count": 58,
   "metadata": {
    "id": "QMviDsbxholZ"
   },
   "outputs": [],
   "source": [
    "# Código do procedimento para Entendimento dos Dados"
   ]
  },
  {
   "cell_type": "code",
   "execution_count": 59,
   "metadata": {},
   "outputs": [
    {
     "name": "stdout",
     "output_type": "stream",
     "text": [
      "<class 'pandas.core.frame.DataFrame'>\n",
      "RangeIndex: 149 entries, 0 to 148\n",
      "Data columns (total 5 columns):\n",
      " #   Column              Non-Null Count  Dtype  \n",
      "---  ------              --------------  -----  \n",
      " 0   Sepal Lenght in cm  149 non-null    float64\n",
      " 1   Sepal Width in cm   149 non-null    float64\n",
      " 2   Petal Lenght in cm  149 non-null    float64\n",
      " 3   Petal Width in cm   149 non-null    float64\n",
      " 4   Class               149 non-null    object \n",
      "dtypes: float64(4), object(1)\n",
      "memory usage: 5.9+ KB\n"
     ]
    }
   ],
   "source": [
    "df.info()"
   ]
  },
  {
   "cell_type": "code",
   "execution_count": 60,
   "metadata": {},
   "outputs": [
    {
     "data": {
      "text/html": [
       "<div>\n",
       "<style scoped>\n",
       "    .dataframe tbody tr th:only-of-type {\n",
       "        vertical-align: middle;\n",
       "    }\n",
       "\n",
       "    .dataframe tbody tr th {\n",
       "        vertical-align: top;\n",
       "    }\n",
       "\n",
       "    .dataframe thead th {\n",
       "        text-align: right;\n",
       "    }\n",
       "</style>\n",
       "<table border=\"1\" class=\"dataframe\">\n",
       "  <thead>\n",
       "    <tr style=\"text-align: right;\">\n",
       "      <th></th>\n",
       "      <th>Sepal Lenght in cm</th>\n",
       "      <th>Sepal Width in cm</th>\n",
       "      <th>Petal Lenght in cm</th>\n",
       "      <th>Petal Width in cm</th>\n",
       "      <th>Class</th>\n",
       "    </tr>\n",
       "  </thead>\n",
       "  <tbody>\n",
       "    <tr>\n",
       "      <th>0</th>\n",
       "      <td>4.9</td>\n",
       "      <td>3.0</td>\n",
       "      <td>1.4</td>\n",
       "      <td>0.2</td>\n",
       "      <td>Iris-setosa</td>\n",
       "    </tr>\n",
       "    <tr>\n",
       "      <th>1</th>\n",
       "      <td>4.7</td>\n",
       "      <td>3.2</td>\n",
       "      <td>1.3</td>\n",
       "      <td>0.2</td>\n",
       "      <td>Iris-setosa</td>\n",
       "    </tr>\n",
       "    <tr>\n",
       "      <th>2</th>\n",
       "      <td>4.6</td>\n",
       "      <td>3.1</td>\n",
       "      <td>1.5</td>\n",
       "      <td>0.2</td>\n",
       "      <td>Iris-setosa</td>\n",
       "    </tr>\n",
       "    <tr>\n",
       "      <th>3</th>\n",
       "      <td>5.0</td>\n",
       "      <td>3.6</td>\n",
       "      <td>1.4</td>\n",
       "      <td>0.2</td>\n",
       "      <td>Iris-setosa</td>\n",
       "    </tr>\n",
       "    <tr>\n",
       "      <th>4</th>\n",
       "      <td>5.4</td>\n",
       "      <td>3.9</td>\n",
       "      <td>1.7</td>\n",
       "      <td>0.4</td>\n",
       "      <td>Iris-setosa</td>\n",
       "    </tr>\n",
       "  </tbody>\n",
       "</table>\n",
       "</div>"
      ],
      "text/plain": [
       "   Sepal Lenght in cm  Sepal Width in cm  Petal Lenght in cm  \\\n",
       "0                 4.9                3.0                 1.4   \n",
       "1                 4.7                3.2                 1.3   \n",
       "2                 4.6                3.1                 1.5   \n",
       "3                 5.0                3.6                 1.4   \n",
       "4                 5.4                3.9                 1.7   \n",
       "\n",
       "   Petal Width in cm        Class  \n",
       "0                0.2  Iris-setosa  \n",
       "1                0.2  Iris-setosa  \n",
       "2                0.2  Iris-setosa  \n",
       "3                0.2  Iris-setosa  \n",
       "4                0.4  Iris-setosa  "
      ]
     },
     "execution_count": 60,
     "metadata": {},
     "output_type": "execute_result"
    }
   ],
   "source": [
    "df.head()"
   ]
  },
  {
   "cell_type": "code",
   "execution_count": 61,
   "metadata": {},
   "outputs": [
    {
     "data": {
      "text/html": [
       "<div>\n",
       "<style scoped>\n",
       "    .dataframe tbody tr th:only-of-type {\n",
       "        vertical-align: middle;\n",
       "    }\n",
       "\n",
       "    .dataframe tbody tr th {\n",
       "        vertical-align: top;\n",
       "    }\n",
       "\n",
       "    .dataframe thead th {\n",
       "        text-align: right;\n",
       "    }\n",
       "</style>\n",
       "<table border=\"1\" class=\"dataframe\">\n",
       "  <thead>\n",
       "    <tr style=\"text-align: right;\">\n",
       "      <th></th>\n",
       "      <th>Sepal Lenght in cm</th>\n",
       "      <th>Sepal Width in cm</th>\n",
       "      <th>Petal Lenght in cm</th>\n",
       "      <th>Petal Width in cm</th>\n",
       "      <th>Class</th>\n",
       "    </tr>\n",
       "  </thead>\n",
       "  <tbody>\n",
       "    <tr>\n",
       "      <th>144</th>\n",
       "      <td>6.7</td>\n",
       "      <td>3.0</td>\n",
       "      <td>5.2</td>\n",
       "      <td>2.3</td>\n",
       "      <td>Iris-virginica</td>\n",
       "    </tr>\n",
       "    <tr>\n",
       "      <th>145</th>\n",
       "      <td>6.3</td>\n",
       "      <td>2.5</td>\n",
       "      <td>5.0</td>\n",
       "      <td>1.9</td>\n",
       "      <td>Iris-virginica</td>\n",
       "    </tr>\n",
       "    <tr>\n",
       "      <th>146</th>\n",
       "      <td>6.5</td>\n",
       "      <td>3.0</td>\n",
       "      <td>5.2</td>\n",
       "      <td>2.0</td>\n",
       "      <td>Iris-virginica</td>\n",
       "    </tr>\n",
       "    <tr>\n",
       "      <th>147</th>\n",
       "      <td>6.2</td>\n",
       "      <td>3.4</td>\n",
       "      <td>5.4</td>\n",
       "      <td>2.3</td>\n",
       "      <td>Iris-virginica</td>\n",
       "    </tr>\n",
       "    <tr>\n",
       "      <th>148</th>\n",
       "      <td>5.9</td>\n",
       "      <td>3.0</td>\n",
       "      <td>5.1</td>\n",
       "      <td>1.8</td>\n",
       "      <td>Iris-virginica</td>\n",
       "    </tr>\n",
       "  </tbody>\n",
       "</table>\n",
       "</div>"
      ],
      "text/plain": [
       "     Sepal Lenght in cm  Sepal Width in cm  Petal Lenght in cm  \\\n",
       "144                 6.7                3.0                 5.2   \n",
       "145                 6.3                2.5                 5.0   \n",
       "146                 6.5                3.0                 5.2   \n",
       "147                 6.2                3.4                 5.4   \n",
       "148                 5.9                3.0                 5.1   \n",
       "\n",
       "     Petal Width in cm           Class  \n",
       "144                2.3  Iris-virginica  \n",
       "145                1.9  Iris-virginica  \n",
       "146                2.0  Iris-virginica  \n",
       "147                2.3  Iris-virginica  \n",
       "148                1.8  Iris-virginica  "
      ]
     },
     "execution_count": 61,
     "metadata": {},
     "output_type": "execute_result"
    }
   ],
   "source": [
    "df.tail()"
   ]
  },
  {
   "cell_type": "code",
   "execution_count": 62,
   "metadata": {},
   "outputs": [
    {
     "data": {
      "text/html": [
       "<div>\n",
       "<style scoped>\n",
       "    .dataframe tbody tr th:only-of-type {\n",
       "        vertical-align: middle;\n",
       "    }\n",
       "\n",
       "    .dataframe tbody tr th {\n",
       "        vertical-align: top;\n",
       "    }\n",
       "\n",
       "    .dataframe thead th {\n",
       "        text-align: right;\n",
       "    }\n",
       "</style>\n",
       "<table border=\"1\" class=\"dataframe\">\n",
       "  <thead>\n",
       "    <tr style=\"text-align: right;\">\n",
       "      <th></th>\n",
       "      <th>Sepal Lenght in cm</th>\n",
       "      <th>Sepal Width in cm</th>\n",
       "      <th>Petal Lenght in cm</th>\n",
       "      <th>Petal Width in cm</th>\n",
       "      <th>Class</th>\n",
       "    </tr>\n",
       "  </thead>\n",
       "  <tbody>\n",
       "    <tr>\n",
       "      <th>count</th>\n",
       "      <td>149.000000</td>\n",
       "      <td>149.000000</td>\n",
       "      <td>149.000000</td>\n",
       "      <td>149.000000</td>\n",
       "      <td>149</td>\n",
       "    </tr>\n",
       "    <tr>\n",
       "      <th>unique</th>\n",
       "      <td>NaN</td>\n",
       "      <td>NaN</td>\n",
       "      <td>NaN</td>\n",
       "      <td>NaN</td>\n",
       "      <td>3</td>\n",
       "    </tr>\n",
       "    <tr>\n",
       "      <th>top</th>\n",
       "      <td>NaN</td>\n",
       "      <td>NaN</td>\n",
       "      <td>NaN</td>\n",
       "      <td>NaN</td>\n",
       "      <td>Iris-versicolor</td>\n",
       "    </tr>\n",
       "    <tr>\n",
       "      <th>freq</th>\n",
       "      <td>NaN</td>\n",
       "      <td>NaN</td>\n",
       "      <td>NaN</td>\n",
       "      <td>NaN</td>\n",
       "      <td>50</td>\n",
       "    </tr>\n",
       "    <tr>\n",
       "      <th>mean</th>\n",
       "      <td>5.848322</td>\n",
       "      <td>3.051007</td>\n",
       "      <td>3.774497</td>\n",
       "      <td>1.205369</td>\n",
       "      <td>NaN</td>\n",
       "    </tr>\n",
       "    <tr>\n",
       "      <th>std</th>\n",
       "      <td>0.828594</td>\n",
       "      <td>0.433499</td>\n",
       "      <td>1.759651</td>\n",
       "      <td>0.761292</td>\n",
       "      <td>NaN</td>\n",
       "    </tr>\n",
       "    <tr>\n",
       "      <th>min</th>\n",
       "      <td>4.300000</td>\n",
       "      <td>2.000000</td>\n",
       "      <td>1.000000</td>\n",
       "      <td>0.100000</td>\n",
       "      <td>NaN</td>\n",
       "    </tr>\n",
       "    <tr>\n",
       "      <th>25%</th>\n",
       "      <td>5.100000</td>\n",
       "      <td>2.800000</td>\n",
       "      <td>1.600000</td>\n",
       "      <td>0.300000</td>\n",
       "      <td>NaN</td>\n",
       "    </tr>\n",
       "    <tr>\n",
       "      <th>50%</th>\n",
       "      <td>5.800000</td>\n",
       "      <td>3.000000</td>\n",
       "      <td>4.400000</td>\n",
       "      <td>1.300000</td>\n",
       "      <td>NaN</td>\n",
       "    </tr>\n",
       "    <tr>\n",
       "      <th>75%</th>\n",
       "      <td>6.400000</td>\n",
       "      <td>3.300000</td>\n",
       "      <td>5.100000</td>\n",
       "      <td>1.800000</td>\n",
       "      <td>NaN</td>\n",
       "    </tr>\n",
       "    <tr>\n",
       "      <th>max</th>\n",
       "      <td>7.900000</td>\n",
       "      <td>4.400000</td>\n",
       "      <td>6.900000</td>\n",
       "      <td>2.500000</td>\n",
       "      <td>NaN</td>\n",
       "    </tr>\n",
       "  </tbody>\n",
       "</table>\n",
       "</div>"
      ],
      "text/plain": [
       "        Sepal Lenght in cm  Sepal Width in cm  Petal Lenght in cm  \\\n",
       "count           149.000000         149.000000          149.000000   \n",
       "unique                 NaN                NaN                 NaN   \n",
       "top                    NaN                NaN                 NaN   \n",
       "freq                   NaN                NaN                 NaN   \n",
       "mean              5.848322           3.051007            3.774497   \n",
       "std               0.828594           0.433499            1.759651   \n",
       "min               4.300000           2.000000            1.000000   \n",
       "25%               5.100000           2.800000            1.600000   \n",
       "50%               5.800000           3.000000            4.400000   \n",
       "75%               6.400000           3.300000            5.100000   \n",
       "max               7.900000           4.400000            6.900000   \n",
       "\n",
       "        Petal Width in cm            Class  \n",
       "count          149.000000              149  \n",
       "unique                NaN                3  \n",
       "top                   NaN  Iris-versicolor  \n",
       "freq                  NaN               50  \n",
       "mean             1.205369              NaN  \n",
       "std              0.761292              NaN  \n",
       "min              0.100000              NaN  \n",
       "25%              0.300000              NaN  \n",
       "50%              1.300000              NaN  \n",
       "75%              1.800000              NaN  \n",
       "max              2.500000              NaN  "
      ]
     },
     "execution_count": 62,
     "metadata": {},
     "output_type": "execute_result"
    }
   ],
   "source": [
    "df.describe(include='all')"
   ]
  },
  {
   "cell_type": "code",
   "execution_count": 63,
   "metadata": {},
   "outputs": [
    {
     "data": {
      "application/vnd.jupyter.widget-view+json": {
       "model_id": "322888fd45c543fb8630a74528d1a661",
       "version_major": 2,
       "version_minor": 0
      },
      "text/plain": [
       "Summarize dataset:   0%|          | 0/5 [00:00<?, ?it/s]"
      ]
     },
     "metadata": {},
     "output_type": "display_data"
    },
    {
     "data": {
      "application/vnd.jupyter.widget-view+json": {
       "model_id": "2403909104d4462595625ca070de5d51",
       "version_major": 2,
       "version_minor": 0
      },
      "text/plain": [
       "Generate report structure:   0%|          | 0/1 [00:00<?, ?it/s]"
      ]
     },
     "metadata": {},
     "output_type": "display_data"
    },
    {
     "data": {
      "application/vnd.jupyter.widget-view+json": {
       "model_id": "570bfbe5ff0f461eaad5bff46f4dd02a",
       "version_major": 2,
       "version_minor": 0
      },
      "text/plain": [
       "Render HTML:   0%|          | 0/1 [00:00<?, ?it/s]"
      ]
     },
     "metadata": {},
     "output_type": "display_data"
    },
    {
     "data": {
      "application/vnd.jupyter.widget-view+json": {
       "model_id": "2655d33f4ebe46c8b2f6dbc5074088bf",
       "version_major": 2,
       "version_minor": 0
      },
      "text/plain": [
       "Export report to file:   0%|          | 0/1 [00:00<?, ?it/s]"
      ]
     },
     "metadata": {},
     "output_type": "display_data"
    }
   ],
   "source": [
    "profile = ProfileReport(df, title='RELATÓRIO DO CONJUNTO DE DADOS', html={'style':{'full_width':True}})\n",
    "profile.to_file(output_file=\"descrevendo_dados-IrisDataSet.html\")"
   ]
  },
  {
   "cell_type": "markdown",
   "metadata": {
    "id": "nPKhMbG4fTSY"
   },
   "source": [
    "**1.3 Preparação dos Dados**"
   ]
  },
  {
   "cell_type": "code",
   "execution_count": 64,
   "metadata": {},
   "outputs": [],
   "source": [
    "# Código do procedimento para Preparação dos Dados e Extração de Características"
   ]
  },
  {
   "cell_type": "code",
   "execution_count": 65,
   "metadata": {},
   "outputs": [],
   "source": [
    "df = df.applymap(lambda x: x * 10 if pd.api.types.is_number(x) else x).rename(columns={'Sepal Lenght in cm' : 'comp_sepal_mm', 'Sepal Width in cm' : 'larg_sepal_mm', 'Petal Lenght in cm' : 'comp_petal_mm', 'Petal Width in cm' : 'larg_petal_mm'}).astype({'comp_sepal_mm' : int ,'larg_sepal_mm' : int, 'comp_petal_mm' : int, 'larg_petal_mm' : int})"
   ]
  },
  {
   "cell_type": "code",
   "execution_count": 66,
   "metadata": {},
   "outputs": [
    {
     "name": "stdout",
     "output_type": "stream",
     "text": [
      "<class 'pandas.core.frame.DataFrame'>\n",
      "RangeIndex: 149 entries, 0 to 148\n",
      "Data columns (total 5 columns):\n",
      " #   Column         Non-Null Count  Dtype \n",
      "---  ------         --------------  ----- \n",
      " 0   comp_sepal_mm  149 non-null    int32 \n",
      " 1   larg_sepal_mm  149 non-null    int32 \n",
      " 2   comp_petal_mm  149 non-null    int32 \n",
      " 3   larg_petal_mm  149 non-null    int32 \n",
      " 4   Class          149 non-null    object\n",
      "dtypes: int32(4), object(1)\n",
      "memory usage: 3.6+ KB\n"
     ]
    }
   ],
   "source": [
    "df.info()"
   ]
  },
  {
   "cell_type": "code",
   "execution_count": 67,
   "metadata": {},
   "outputs": [
    {
     "data": {
      "text/html": [
       "<div>\n",
       "<style scoped>\n",
       "    .dataframe tbody tr th:only-of-type {\n",
       "        vertical-align: middle;\n",
       "    }\n",
       "\n",
       "    .dataframe tbody tr th {\n",
       "        vertical-align: top;\n",
       "    }\n",
       "\n",
       "    .dataframe thead th {\n",
       "        text-align: right;\n",
       "    }\n",
       "</style>\n",
       "<table border=\"1\" class=\"dataframe\">\n",
       "  <thead>\n",
       "    <tr style=\"text-align: right;\">\n",
       "      <th></th>\n",
       "      <th>comp_sepal_mm</th>\n",
       "      <th>larg_sepal_mm</th>\n",
       "      <th>comp_petal_mm</th>\n",
       "      <th>larg_petal_mm</th>\n",
       "      <th>Class</th>\n",
       "    </tr>\n",
       "  </thead>\n",
       "  <tbody>\n",
       "    <tr>\n",
       "      <th>0</th>\n",
       "      <td>49</td>\n",
       "      <td>30</td>\n",
       "      <td>14</td>\n",
       "      <td>2</td>\n",
       "      <td>Iris-setosa</td>\n",
       "    </tr>\n",
       "    <tr>\n",
       "      <th>1</th>\n",
       "      <td>47</td>\n",
       "      <td>32</td>\n",
       "      <td>13</td>\n",
       "      <td>2</td>\n",
       "      <td>Iris-setosa</td>\n",
       "    </tr>\n",
       "    <tr>\n",
       "      <th>2</th>\n",
       "      <td>46</td>\n",
       "      <td>31</td>\n",
       "      <td>15</td>\n",
       "      <td>2</td>\n",
       "      <td>Iris-setosa</td>\n",
       "    </tr>\n",
       "    <tr>\n",
       "      <th>3</th>\n",
       "      <td>50</td>\n",
       "      <td>36</td>\n",
       "      <td>14</td>\n",
       "      <td>2</td>\n",
       "      <td>Iris-setosa</td>\n",
       "    </tr>\n",
       "    <tr>\n",
       "      <th>4</th>\n",
       "      <td>54</td>\n",
       "      <td>39</td>\n",
       "      <td>17</td>\n",
       "      <td>4</td>\n",
       "      <td>Iris-setosa</td>\n",
       "    </tr>\n",
       "  </tbody>\n",
       "</table>\n",
       "</div>"
      ],
      "text/plain": [
       "   comp_sepal_mm  larg_sepal_mm  comp_petal_mm  larg_petal_mm        Class\n",
       "0             49             30             14              2  Iris-setosa\n",
       "1             47             32             13              2  Iris-setosa\n",
       "2             46             31             15              2  Iris-setosa\n",
       "3             50             36             14              2  Iris-setosa\n",
       "4             54             39             17              4  Iris-setosa"
      ]
     },
     "execution_count": 67,
     "metadata": {},
     "output_type": "execute_result"
    }
   ],
   "source": [
    "df.head()"
   ]
  },
  {
   "cell_type": "code",
   "execution_count": 68,
   "metadata": {},
   "outputs": [
    {
     "data": {
      "text/html": [
       "<div>\n",
       "<style scoped>\n",
       "    .dataframe tbody tr th:only-of-type {\n",
       "        vertical-align: middle;\n",
       "    }\n",
       "\n",
       "    .dataframe tbody tr th {\n",
       "        vertical-align: top;\n",
       "    }\n",
       "\n",
       "    .dataframe thead th {\n",
       "        text-align: right;\n",
       "    }\n",
       "</style>\n",
       "<table border=\"1\" class=\"dataframe\">\n",
       "  <thead>\n",
       "    <tr style=\"text-align: right;\">\n",
       "      <th></th>\n",
       "      <th>comp_sepal_mm</th>\n",
       "      <th>larg_sepal_mm</th>\n",
       "      <th>comp_petal_mm</th>\n",
       "      <th>larg_petal_mm</th>\n",
       "      <th>Class</th>\n",
       "    </tr>\n",
       "  </thead>\n",
       "  <tbody>\n",
       "    <tr>\n",
       "      <th>144</th>\n",
       "      <td>67</td>\n",
       "      <td>30</td>\n",
       "      <td>52</td>\n",
       "      <td>23</td>\n",
       "      <td>Iris-virginica</td>\n",
       "    </tr>\n",
       "    <tr>\n",
       "      <th>145</th>\n",
       "      <td>63</td>\n",
       "      <td>25</td>\n",
       "      <td>50</td>\n",
       "      <td>19</td>\n",
       "      <td>Iris-virginica</td>\n",
       "    </tr>\n",
       "    <tr>\n",
       "      <th>146</th>\n",
       "      <td>65</td>\n",
       "      <td>30</td>\n",
       "      <td>52</td>\n",
       "      <td>20</td>\n",
       "      <td>Iris-virginica</td>\n",
       "    </tr>\n",
       "    <tr>\n",
       "      <th>147</th>\n",
       "      <td>62</td>\n",
       "      <td>34</td>\n",
       "      <td>54</td>\n",
       "      <td>23</td>\n",
       "      <td>Iris-virginica</td>\n",
       "    </tr>\n",
       "    <tr>\n",
       "      <th>148</th>\n",
       "      <td>59</td>\n",
       "      <td>30</td>\n",
       "      <td>51</td>\n",
       "      <td>18</td>\n",
       "      <td>Iris-virginica</td>\n",
       "    </tr>\n",
       "  </tbody>\n",
       "</table>\n",
       "</div>"
      ],
      "text/plain": [
       "     comp_sepal_mm  larg_sepal_mm  comp_petal_mm  larg_petal_mm  \\\n",
       "144             67             30             52             23   \n",
       "145             63             25             50             19   \n",
       "146             65             30             52             20   \n",
       "147             62             34             54             23   \n",
       "148             59             30             51             18   \n",
       "\n",
       "              Class  \n",
       "144  Iris-virginica  \n",
       "145  Iris-virginica  \n",
       "146  Iris-virginica  \n",
       "147  Iris-virginica  \n",
       "148  Iris-virginica  "
      ]
     },
     "execution_count": 68,
     "metadata": {},
     "output_type": "execute_result"
    }
   ],
   "source": [
    "df.tail()"
   ]
  },
  {
   "cell_type": "code",
   "execution_count": 69,
   "metadata": {
    "scrolled": true
   },
   "outputs": [
    {
     "data": {
      "text/html": [
       "<div>\n",
       "<style scoped>\n",
       "    .dataframe tbody tr th:only-of-type {\n",
       "        vertical-align: middle;\n",
       "    }\n",
       "\n",
       "    .dataframe tbody tr th {\n",
       "        vertical-align: top;\n",
       "    }\n",
       "\n",
       "    .dataframe thead th {\n",
       "        text-align: right;\n",
       "    }\n",
       "</style>\n",
       "<table border=\"1\" class=\"dataframe\">\n",
       "  <thead>\n",
       "    <tr style=\"text-align: right;\">\n",
       "      <th></th>\n",
       "      <th>comp_sepal_mm</th>\n",
       "      <th>larg_sepal_mm</th>\n",
       "      <th>comp_petal_mm</th>\n",
       "      <th>larg_petal_mm</th>\n",
       "      <th>Class</th>\n",
       "    </tr>\n",
       "  </thead>\n",
       "  <tbody>\n",
       "    <tr>\n",
       "      <th>count</th>\n",
       "      <td>149.000000</td>\n",
       "      <td>149.000000</td>\n",
       "      <td>149.000000</td>\n",
       "      <td>149.000000</td>\n",
       "      <td>149</td>\n",
       "    </tr>\n",
       "    <tr>\n",
       "      <th>unique</th>\n",
       "      <td>NaN</td>\n",
       "      <td>NaN</td>\n",
       "      <td>NaN</td>\n",
       "      <td>NaN</td>\n",
       "      <td>3</td>\n",
       "    </tr>\n",
       "    <tr>\n",
       "      <th>top</th>\n",
       "      <td>NaN</td>\n",
       "      <td>NaN</td>\n",
       "      <td>NaN</td>\n",
       "      <td>NaN</td>\n",
       "      <td>Iris-versicolor</td>\n",
       "    </tr>\n",
       "    <tr>\n",
       "      <th>freq</th>\n",
       "      <td>NaN</td>\n",
       "      <td>NaN</td>\n",
       "      <td>NaN</td>\n",
       "      <td>NaN</td>\n",
       "      <td>50</td>\n",
       "    </tr>\n",
       "    <tr>\n",
       "      <th>mean</th>\n",
       "      <td>58.483221</td>\n",
       "      <td>30.510067</td>\n",
       "      <td>37.744966</td>\n",
       "      <td>12.053691</td>\n",
       "      <td>NaN</td>\n",
       "    </tr>\n",
       "    <tr>\n",
       "      <th>std</th>\n",
       "      <td>8.285941</td>\n",
       "      <td>4.334989</td>\n",
       "      <td>17.596512</td>\n",
       "      <td>7.612920</td>\n",
       "      <td>NaN</td>\n",
       "    </tr>\n",
       "    <tr>\n",
       "      <th>min</th>\n",
       "      <td>43.000000</td>\n",
       "      <td>20.000000</td>\n",
       "      <td>10.000000</td>\n",
       "      <td>1.000000</td>\n",
       "      <td>NaN</td>\n",
       "    </tr>\n",
       "    <tr>\n",
       "      <th>25%</th>\n",
       "      <td>51.000000</td>\n",
       "      <td>28.000000</td>\n",
       "      <td>16.000000</td>\n",
       "      <td>3.000000</td>\n",
       "      <td>NaN</td>\n",
       "    </tr>\n",
       "    <tr>\n",
       "      <th>50%</th>\n",
       "      <td>58.000000</td>\n",
       "      <td>30.000000</td>\n",
       "      <td>44.000000</td>\n",
       "      <td>13.000000</td>\n",
       "      <td>NaN</td>\n",
       "    </tr>\n",
       "    <tr>\n",
       "      <th>75%</th>\n",
       "      <td>64.000000</td>\n",
       "      <td>33.000000</td>\n",
       "      <td>51.000000</td>\n",
       "      <td>18.000000</td>\n",
       "      <td>NaN</td>\n",
       "    </tr>\n",
       "    <tr>\n",
       "      <th>max</th>\n",
       "      <td>79.000000</td>\n",
       "      <td>44.000000</td>\n",
       "      <td>69.000000</td>\n",
       "      <td>25.000000</td>\n",
       "      <td>NaN</td>\n",
       "    </tr>\n",
       "  </tbody>\n",
       "</table>\n",
       "</div>"
      ],
      "text/plain": [
       "        comp_sepal_mm  larg_sepal_mm  comp_petal_mm  larg_petal_mm  \\\n",
       "count      149.000000     149.000000     149.000000     149.000000   \n",
       "unique            NaN            NaN            NaN            NaN   \n",
       "top               NaN            NaN            NaN            NaN   \n",
       "freq              NaN            NaN            NaN            NaN   \n",
       "mean        58.483221      30.510067      37.744966      12.053691   \n",
       "std          8.285941       4.334989      17.596512       7.612920   \n",
       "min         43.000000      20.000000      10.000000       1.000000   \n",
       "25%         51.000000      28.000000      16.000000       3.000000   \n",
       "50%         58.000000      30.000000      44.000000      13.000000   \n",
       "75%         64.000000      33.000000      51.000000      18.000000   \n",
       "max         79.000000      44.000000      69.000000      25.000000   \n",
       "\n",
       "                  Class  \n",
       "count               149  \n",
       "unique                3  \n",
       "top     Iris-versicolor  \n",
       "freq                 50  \n",
       "mean                NaN  \n",
       "std                 NaN  \n",
       "min                 NaN  \n",
       "25%                 NaN  \n",
       "50%                 NaN  \n",
       "75%                 NaN  \n",
       "max                 NaN  "
      ]
     },
     "execution_count": 69,
     "metadata": {},
     "output_type": "execute_result"
    }
   ],
   "source": [
    "df.describe(include='all')"
   ]
  },
  {
   "cell_type": "code",
   "execution_count": 70,
   "metadata": {},
   "outputs": [],
   "source": [
    "df.drop_duplicates(inplace=True)"
   ]
  },
  {
   "cell_type": "code",
   "execution_count": 71,
   "metadata": {},
   "outputs": [
    {
     "data": {
      "text/html": [
       "<div>\n",
       "<style scoped>\n",
       "    .dataframe tbody tr th:only-of-type {\n",
       "        vertical-align: middle;\n",
       "    }\n",
       "\n",
       "    .dataframe tbody tr th {\n",
       "        vertical-align: top;\n",
       "    }\n",
       "\n",
       "    .dataframe thead th {\n",
       "        text-align: right;\n",
       "    }\n",
       "</style>\n",
       "<table border=\"1\" class=\"dataframe\">\n",
       "  <thead>\n",
       "    <tr style=\"text-align: right;\">\n",
       "      <th></th>\n",
       "      <th>comp_sepal_mm</th>\n",
       "      <th>larg_sepal_mm</th>\n",
       "      <th>comp_petal_mm</th>\n",
       "      <th>larg_petal_mm</th>\n",
       "    </tr>\n",
       "    <tr>\n",
       "      <th>Class</th>\n",
       "      <th></th>\n",
       "      <th></th>\n",
       "      <th></th>\n",
       "      <th></th>\n",
       "    </tr>\n",
       "  </thead>\n",
       "  <tbody>\n",
       "    <tr>\n",
       "      <th>Iris-setosa</th>\n",
       "      <td>50.085106</td>\n",
       "      <td>34.297872</td>\n",
       "      <td>14.638298</td>\n",
       "      <td>2.510638</td>\n",
       "    </tr>\n",
       "    <tr>\n",
       "      <th>Iris-versicolor</th>\n",
       "      <td>59.360000</td>\n",
       "      <td>27.700000</td>\n",
       "      <td>42.600000</td>\n",
       "      <td>13.260000</td>\n",
       "    </tr>\n",
       "    <tr>\n",
       "      <th>Iris-virginica</th>\n",
       "      <td>66.040816</td>\n",
       "      <td>29.795918</td>\n",
       "      <td>55.612245</td>\n",
       "      <td>20.285714</td>\n",
       "    </tr>\n",
       "  </tbody>\n",
       "</table>\n",
       "</div>"
      ],
      "text/plain": [
       "                 comp_sepal_mm  larg_sepal_mm  comp_petal_mm  larg_petal_mm\n",
       "Class                                                                      \n",
       "Iris-setosa          50.085106      34.297872      14.638298       2.510638\n",
       "Iris-versicolor      59.360000      27.700000      42.600000      13.260000\n",
       "Iris-virginica       66.040816      29.795918      55.612245      20.285714"
      ]
     },
     "execution_count": 71,
     "metadata": {},
     "output_type": "execute_result"
    }
   ],
   "source": [
    "df.groupby('Class').mean()"
   ]
  },
  {
   "cell_type": "code",
   "execution_count": 93,
   "metadata": {},
   "outputs": [
    {
     "ename": "NameError",
     "evalue": "name 'plt' is not defined",
     "output_type": "error",
     "traceback": [
      "\u001b[1;31m---------------------------------------------------------------------------\u001b[0m",
      "\u001b[1;31mNameError\u001b[0m                                 Traceback (most recent call last)",
      "\u001b[1;32m~\\AppData\\Local\\Temp\\ipykernel_8568\\2833701953.py\u001b[0m in \u001b[0;36m<module>\u001b[1;34m\u001b[0m\n\u001b[0;32m      1\u001b[0m \u001b[0msns\u001b[0m\u001b[1;33m.\u001b[0m\u001b[0mpairplot\u001b[0m\u001b[1;33m(\u001b[0m\u001b[0mdf\u001b[0m\u001b[1;33m,\u001b[0m \u001b[0mhue\u001b[0m\u001b[1;33m=\u001b[0m\u001b[1;34m'Class'\u001b[0m\u001b[1;33m)\u001b[0m\u001b[1;33m\u001b[0m\u001b[1;33m\u001b[0m\u001b[0m\n\u001b[1;32m----> 2\u001b[1;33m \u001b[0mplt\u001b[0m\u001b[1;33m.\u001b[0m\u001b[0mshow\u001b[0m\u001b[1;33m(\u001b[0m\u001b[1;33m)\u001b[0m\u001b[1;33m\u001b[0m\u001b[1;33m\u001b[0m\u001b[0m\n\u001b[0m",
      "\u001b[1;31mNameError\u001b[0m: name 'plt' is not defined"
     ]
    }
   ],
   "source": [
    "sns.pairplot(df, hue='Class')\n",
    "plt.show()"
   ]
  },
  {
   "cell_type": "code",
   "execution_count": null,
   "metadata": {},
   "outputs": [],
   "source": []
  },
  {
   "cell_type": "markdown",
   "metadata": {
    "id": "91m8b3dcjm_k"
   },
   "source": [
    "---\n",
    "# **2. Modelagem**\n",
    "Descreva a seguir os procedimentos de modelagem de um aprendizado Não Supervisionado para o agrupamento do conjunto de dados. Em seguida, faça o mesmo para os modelos Supervisionados."
   ]
  },
  {
   "cell_type": "markdown",
   "metadata": {
    "id": "PY_alhe5GtBF"
   },
   "source": [
    "## **2.1 MODELO NÃO SUPERVISIONADO**"
   ]
  },
  {
   "cell_type": "markdown",
   "metadata": {
    "id": "nAY_lgDRGkRy"
   },
   "source": [
    "### **Modelo 1 - \\<*Nome do Método 1*\\>**"
   ]
  },
  {
   "cell_type": "code",
   "execution_count": 73,
   "metadata": {
    "id": "mN6Io8Sbj0Fb"
   },
   "outputs": [],
   "source": [
    "#Código do Modelo Não Supervisionado 1"
   ]
  },
  {
   "cell_type": "markdown",
   "metadata": {
    "id": "3xOYw4JJDedQ"
   },
   "source": [
    "### **Modelo 2 - \\<*Nome do Método 2*\\>**"
   ]
  },
  {
   "cell_type": "code",
   "execution_count": 74,
   "metadata": {
    "id": "bSp_O3JeDkq-"
   },
   "outputs": [],
   "source": [
    "#Código do Modelo Não Supervisionado 2"
   ]
  },
  {
   "cell_type": "markdown",
   "metadata": {
    "id": "YDcA5jKpEX12"
   },
   "source": [
    "---\n",
    "## **2.2 MODELO SUPERVISIONADO**"
   ]
  },
  {
   "cell_type": "markdown",
   "metadata": {
    "id": "cx7qxdHZGyKw"
   },
   "source": [
    "### **Modelo 1 - \\<*Nome do Método 1*\\>**"
   ]
  },
  {
   "cell_type": "code",
   "execution_count": 75,
   "metadata": {
    "id": "R1P6lnCrEbTb"
   },
   "outputs": [],
   "source": [
    "# Código do Modelo Supervisionado 1"
   ]
  },
  {
   "cell_type": "markdown",
   "metadata": {
    "id": "w1QYsKaIEk2m"
   },
   "source": [
    "### **Modelo 2 - \\<*Nome do Método 2*\\>**"
   ]
  },
  {
   "cell_type": "code",
   "execution_count": 76,
   "metadata": {
    "id": "dH-bjTsPFuH8"
   },
   "outputs": [],
   "source": [
    "# Código do Modelo Supervisionado 2"
   ]
  },
  {
   "cell_type": "markdown",
   "metadata": {
    "id": "BmPt113WkHID"
   },
   "source": [
    "---\n",
    "\n",
    "# **3. Avaliação**\n",
    "\n",
    "Descreva o resultado das suas modelagens considerando primeiro o Aprendizado Não Supervisionado e depois o Aprendizado Supervisionado.\n"
   ]
  },
  {
   "cell_type": "markdown",
   "metadata": {
    "id": "pgUiF23dFETM"
   },
   "source": [
    "## **3.1 MODELO NÃO SUPERVISIONADO**"
   ]
  },
  {
   "cell_type": "code",
   "execution_count": 77,
   "metadata": {
    "id": "GVp21rtRk18j"
   },
   "outputs": [],
   "source": [
    "# Código para apresentar os resultados da comparação dos modelos não supervisionados"
   ]
  },
  {
   "cell_type": "markdown",
   "metadata": {
    "id": "rnp-s91Ck81z"
   },
   "source": [
    "## **2.2 MODELO SUPERVISIONADO**"
   ]
  },
  {
   "cell_type": "code",
   "execution_count": 78,
   "metadata": {
    "id": "jIj5EUt6lM8t"
   },
   "outputs": [],
   "source": [
    "# Código para apresentar os resultados da comparação dos modelos supervisionados"
   ]
  },
  {
   "cell_type": "markdown",
   "metadata": {
    "id": "qk_M-4aaUjcp"
   },
   "source": [
    "\n",
    "\n",
    "---\n",
    "\n",
    "\n",
    "## **Referências**\n",
    "* Insira as referências que utilizou para realização desta atividade.\n"
   ]
  }
 ],
 "metadata": {
  "colab": {
   "collapsed_sections": [
    "qk_M-4aaUjcp"
   ],
   "provenance": []
  },
  "gpuClass": "standard",
  "kernelspec": {
   "display_name": "Python 3 (ipykernel)",
   "language": "python",
   "name": "python3"
  },
  "language_info": {
   "codemirror_mode": {
    "name": "ipython",
    "version": 3
   },
   "file_extension": ".py",
   "mimetype": "text/x-python",
   "name": "python",
   "nbconvert_exporter": "python",
   "pygments_lexer": "ipython3",
   "version": "3.9.13"
  }
 },
 "nbformat": 4,
 "nbformat_minor": 1
}
