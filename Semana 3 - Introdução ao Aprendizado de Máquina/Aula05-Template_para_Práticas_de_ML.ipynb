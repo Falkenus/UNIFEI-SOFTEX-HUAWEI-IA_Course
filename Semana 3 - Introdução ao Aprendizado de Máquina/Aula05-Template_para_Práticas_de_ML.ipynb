{
  "nbformat": 4,
  "nbformat_minor": 0,
  "metadata": {
    "colab": {
      "provenance": [],
      "collapsed_sections": [
        "qk_M-4aaUjcp"
      ]
    },
    "kernelspec": {
      "name": "python3",
      "display_name": "Python 3"
    },
    "language_info": {
      "name": "python"
    },
    "gpuClass": "standard"
  },
  "cells": [
    {
      "cell_type": "markdown",
      "source": [
        "### **SOFTEX/UNIFEI** - **Curso de Introdução à Inteligência Artificial**\n",
        "\n",
        "# **Módulo 3. Aprendizado de Máquina**\n",
        "\n",
        "## ***Template de notebook para realização de Atividades Práticas*** \n",
        "\n",
        "###**Assunto:** Práticas de desenvolvimento de um notebook Google Colab para criação de modelos de aprendizado de máquina.\n",
        "\n",
        "\\\\\n",
        "**Matrícula:** \\<*Número de matrícula na instituição*\\> \\\n",
        "**Nome:** \\<*Nome Completo*\\> \\\n",
        "**e-mail:** \\<*endereço de e-mail*\\> \\\n",
        "**Turma:** \\<*1, 2, 3 ou 4*\\> \\\n",
        "**Última Edição:** \\<*data da última edição do Colab*\\>\n",
        "\n",
        "\\\\\n",
        "###**INFORMAÇÕES**\n",
        "\n",
        "*   **Estas práticas não valem ponto** e **não precisam se entregues**. Sua realização é recomendada para auxiliar na fixação do conteúdo e para o desenvolvimento de modelos aplicáveis. **Dúvidas** poderão ser esclarecidas com o professor e monitores de preferência nas aulas presenciais ou enviadas para o e-mail softex@unifei.edu.br.\n",
        "\n",
        "* **Tópico Abordado:** Processo de *Machine Learning*.\n",
        "\n",
        "*   Este template é **recomendado para realização das práticas das aulas 05, 06, 07 e 08**. Altere-o como preferir ou utilize um de sua escolha, mas tente atender todas as atividades solicitadas.\n",
        "\n",
        "> * Aula 05: relacionada aos itens 1 a 3 das atividades.\n",
        "> * Aula 06: itens 4 e 5 dos modelos Não Supervisionados.\n",
        "> * Aula 07: itens 4 e 5 dos modelos Supervisionados.\n",
        "\n",
        "* **Objetivos:** Construção incremental de um modelo simples de aprendizado de máquina que considere as etapas de ''Coleta de Dados'' até \"Teste e Avaliação do Modelo\". O modelo deverá ser desenvolvido no Google Colab através de comandos básicos Python e respectivas bibliotecas.\n",
        "\n",
        "----"
      ],
      "metadata": {
        "id": "RgGKQ8FIXP-o"
      }
    },
    {
      "cell_type": "markdown",
      "source": [
        "##**ATIVIDADES**\n",
        "\n",
        "Com base no material disponibilizado ou outras referências que desejar, atenda as atividades solicitadas a seguir que são comumente realizadas no processo de *Machine Learning*. Não se prenda a estrutura deste templante, fique à vontade para personalizá-lo e inserir elementos que achar necessário para melhorar sua qualidade (ex. células de texto e de código, gráficos, figuras, explicações).\n",
        "\n",
        "Construa um modelo não supervisionado e um modelo supervisionado para o dataset Iris (disponível [UCI Machine Learning Repository](https://archive.ics.uci.edu/ml/datasets/iris)). Se preferir, utilize um conjunto de dados de sua preferência que possibilite a aplicação de aprendizado de máquina.\n",
        "\n",
        "**Siga o processo de Machine Learning:**\n",
        "\n",
        "1. **Coleta dos Dados:** fique à vontade para escolher o formato de obtenção dos dados. Forneça informações sobre o conjunto de dados para melhor entendimento.\n",
        "\n",
        "2. **Limpeza dos Dados:** verifique a necessidade de tratar os dados, explique os procedimentos que adotou. \n",
        "\n",
        "3. **Extração de Características**: se for utilizar o *dataset* Iris considere todos os quatro atributos do conjunto de dados. Se usar um de sua escolha explique o que motivou a seleção.\n",
        "\n",
        "4.  **Modelagem**: construa os modelos solicitados conforme cada tipo de aprendizado.\n",
        "  > **Modelo Não Supervisionado:**\n",
        "> * A partir do conjunto de dados original obtenha um conjunto sem os rótulos de classe dos objetos que será usado para os experimentos.\n",
        "> * Utilizar no mínimo dois classificadores (K-Means, outro da sua escolha)\n",
        ">\n",
        "  > **Modelo Supervisionado:**\n",
        "> *  Utilize a proporção 75/25 para gerar os conjuntos de treinamento e teste.\n",
        "> *  O treinamento deve ser feito com 3-*fold* cross-validation.\n",
        "> *  Utilizar no mínimo dois classificadores (Decision Tree e outro da sua escolha)\n",
        "\n",
        "5.  **Avaliação**: valide os modelos construídos conforme cada tipo de aprendizado.\n",
        "\n",
        "  > **Modelo Não Supervisionado:**\n",
        "> * Compare o resultado dos agrupamentos gerados utilizado como medidas o tempo de execução e uma medida externa de avaliação de sua preferência.\n",
        "> * Utilize recursos visuais (ex. gráficos, tabelas, figuras) para mostrar os agrupamentos gerados.\n",
        "\n",
        "  > **Modelo Supervisionado):**\n",
        "> *  Compare o resultado dos modelos, avalie a matriz de confusão. \n",
        "> * Apresente os valores das métricas obtidas com a classificação ou regressão e discuta o que eles representam no contexto do cenário abordado.\n",
        "> * Avalie a acurácia de treinamento e de teste dos modelos.\n",
        "> * Para uma comparação justa considere os mesmos conjuntos de treinamento e de teste em ambos os modelos.\n",
        "\n",
        "**OBSERVAÇÕES:** \n",
        "\n",
        "* Deixe claro no seu notebook os hiperparâmetros que foram considerados em cada método utilizado.\n",
        "* Documente adequadamente seu código. \n",
        "* Nos resultados utilize recursos visuais sempre que possível (ex. gráficos, figuras, tabelas). É importante saber comunicar o que foi feito.\n",
        "\n",
        "---"
      ],
      "metadata": {
        "id": "YtUl_FbUvbsT"
      }
    },
    {
      "cell_type": "markdown",
      "source": [
        "# **0. Preparação do Ambiente de Desenvolvimento**\n",
        "Insira à seguir as bibliotecas e demais comandos de inicialização usados neste notebook que achar necessário para atender as atividades solicitadas."
      ],
      "metadata": {
        "id": "56-xuwRIjJTP"
      }
    },
    {
      "cell_type": "code",
      "source": [
        "# Bibliotecas e demais comandos de inicialização"
      ],
      "metadata": {
        "id": "IT24JBF8jTb9"
      },
      "execution_count": null,
      "outputs": []
    },
    {
      "cell_type": "markdown",
      "source": [
        "---\n",
        "#**1. Coleta e Preparação dos Dados**\n",
        "\n",
        "Insira a seguir os procedimentos de Coleta dos Dados, Entendimento dos Dados e Preparação dos Dados (Limpeza, Extração)."
      ],
      "metadata": {
        "id": "jJ6ZgoYHYJga"
      }
    },
    {
      "cell_type": "markdown",
      "source": [
        "###**1.1 Coleta dos Dados**"
      ],
      "metadata": {
        "id": "_3r-FyNIGd2x"
      }
    },
    {
      "cell_type": "code",
      "source": [
        "# Código do procedimento para Coleta de Dados"
      ],
      "metadata": {
        "id": "outEKndzYp-u"
      },
      "execution_count": null,
      "outputs": []
    },
    {
      "cell_type": "markdown",
      "source": [
        "### **1.2 Entendimento dos Dados**"
      ],
      "metadata": {
        "id": "rD_gFCbuaI1U"
      }
    },
    {
      "cell_type": "code",
      "source": [
        "# Código do procedimento para Entendimento dos Dados"
      ],
      "metadata": {
        "id": "QMviDsbxholZ"
      },
      "execution_count": null,
      "outputs": []
    },
    {
      "cell_type": "markdown",
      "source": [
        "### **1.3 Preparação dos Dados**"
      ],
      "metadata": {
        "id": "nPKhMbG4fTSY"
      }
    },
    {
      "cell_type": "code",
      "source": [
        "# Código do procedimento para Preparação dos Dados e Extração de Características"
      ],
      "metadata": {
        "id": "nZaIi8ricPpX"
      },
      "execution_count": null,
      "outputs": []
    },
    {
      "cell_type": "markdown",
      "source": [
        "---\n",
        "# **2. Modelagem**\n",
        "Descreva a seguir os procedimentos de modelagem de um aprendizado Não Supervisionado para o agrupamento do conjunto de dados. Em seguida, faça o mesmo para os modelos Supervisionados."
      ],
      "metadata": {
        "id": "91m8b3dcjm_k"
      }
    },
    {
      "cell_type": "markdown",
      "source": [
        "## **2.1 MODELO NÃO SUPERVISIONADO**"
      ],
      "metadata": {
        "id": "PY_alhe5GtBF"
      }
    },
    {
      "cell_type": "markdown",
      "source": [
        "### **Modelo 1 - \\<*Nome do Método 1*\\>**"
      ],
      "metadata": {
        "id": "nAY_lgDRGkRy"
      }
    },
    {
      "cell_type": "code",
      "source": [
        "#Código do Modelo Não Supervisionado 1"
      ],
      "metadata": {
        "id": "mN6Io8Sbj0Fb"
      },
      "execution_count": null,
      "outputs": []
    },
    {
      "cell_type": "markdown",
      "source": [
        "### **Modelo 2 - \\<*Nome do Método 2*\\>**"
      ],
      "metadata": {
        "id": "3xOYw4JJDedQ"
      }
    },
    {
      "cell_type": "code",
      "source": [
        "#Código do Modelo Não Supervisionado 2"
      ],
      "metadata": {
        "id": "bSp_O3JeDkq-"
      },
      "execution_count": null,
      "outputs": []
    },
    {
      "cell_type": "markdown",
      "source": [
        "---\n",
        "## **2.2 MODELO SUPERVISIONADO**"
      ],
      "metadata": {
        "id": "YDcA5jKpEX12"
      }
    },
    {
      "cell_type": "markdown",
      "source": [
        "### **Modelo 1 - \\<*Nome do Método 1*\\>**"
      ],
      "metadata": {
        "id": "cx7qxdHZGyKw"
      }
    },
    {
      "cell_type": "code",
      "source": [
        "# Código do Modelo Supervisionado 1"
      ],
      "metadata": {
        "id": "R1P6lnCrEbTb"
      },
      "execution_count": null,
      "outputs": []
    },
    {
      "cell_type": "markdown",
      "source": [
        "### **Modelo 2 - \\<*Nome do Método 2*\\>**"
      ],
      "metadata": {
        "id": "w1QYsKaIEk2m"
      }
    },
    {
      "cell_type": "code",
      "source": [
        "# Código do Modelo Supervisionado 2"
      ],
      "metadata": {
        "id": "dH-bjTsPFuH8"
      },
      "execution_count": null,
      "outputs": []
    },
    {
      "cell_type": "markdown",
      "source": [
        "---\n",
        "\n",
        "# **3. Avaliação**\n",
        "\n",
        "Descreva o resultado das suas modelagens considerando primeiro o Aprendizado Não Supervisionado e depois o Aprendizado Supervisionado.\n"
      ],
      "metadata": {
        "id": "BmPt113WkHID"
      }
    },
    {
      "cell_type": "markdown",
      "source": [
        "## **3.1 MODELO NÃO SUPERVISIONADO**"
      ],
      "metadata": {
        "id": "pgUiF23dFETM"
      }
    },
    {
      "cell_type": "code",
      "source": [
        "# Código para apresentar os resultados da comparação dos modelos não supervisionados"
      ],
      "metadata": {
        "id": "GVp21rtRk18j"
      },
      "execution_count": null,
      "outputs": []
    },
    {
      "cell_type": "markdown",
      "source": [
        "## **2.2 MODELO SUPERVISIONADO**"
      ],
      "metadata": {
        "id": "rnp-s91Ck81z"
      }
    },
    {
      "cell_type": "code",
      "source": [
        "# Código para apresentar os resultados da comparação dos modelos supervisionados"
      ],
      "metadata": {
        "id": "jIj5EUt6lM8t"
      },
      "execution_count": null,
      "outputs": []
    },
    {
      "cell_type": "markdown",
      "source": [
        "\n",
        "\n",
        "---\n",
        "\n",
        "\n",
        "## **Referências**\n",
        "* Insira as referências que utilizou para realização desta atividade.\n"
      ],
      "metadata": {
        "id": "qk_M-4aaUjcp"
      }
    }
  ]
}